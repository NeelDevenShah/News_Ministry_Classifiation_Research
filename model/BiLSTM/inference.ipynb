{
 "cells": [
  {
   "cell_type": "markdown",
   "metadata": {},
   "source": [
    "<h1>For loading the pretrained model, And making the prediction</h1>"
   ]
  },
  {
   "cell_type": "markdown",
   "metadata": {},
   "source": [
    "<h2>List of the ministry and it's specific index number</h2>\n",
    "<ul>\n",
    "<li> 0 Ministry of Railways </li>\n",
    "<li> 1 Ministry of Rural Development </li>\n",
    "<li> 2 Ministry of Steel </li>\n",
    "<li> 3 Ministry of Science & Technology </li>\n",
    "<li> 4 Ministry of Information & Broadcasting </li>\n",
    "<li> 5 Ministry of Food Processing Industries </li>\n",
    "<li> 6 Ministry of Health and Family Welfare </li>\n",
    "<li> 7 Ministry of Human Resource Development </li>\n",
    "<li> 8 Ministry of Agriculture </li>\n",
    "<li> 9 Ministry of Environment and Forests </li>\n",
    "<li> 10 Ministry of Chemicals and Fertilizers </li>\n",
    "<li> 11 Ministry of Water Resources </li>\n",
    "<li> 12 Ministry of Defence </li>\n",
    "<li> 13 Ministry of Petroleum & Natural Gas </li>\n",
    "<li> 14 President's Secretariat </li>\n",
    "<li> 15 Ministry of Micro,Small & Medium Enterprises </li>\n",
    "<li> 16 Ministry of Mines </li>\n",
    "<li> 17 Ministry of Tourism </li>\n",
    "<li> 18 Ministry of Housing & Urban Affairs </li>\n",
    "<li> 19 Ministry of Coal </li>\n",
    "<li> 20 Prime Minister's Office </li>\n",
    "<li> 21 Ministry of Textiles </li>\n",
    "<li> 22 Ministry of Commerce & Industry </li>\n",
    "<li> 23 Ministry of External Affairs </li>\n",
    "<li> 24 Ministry of Social Justice & Empowerment </li>\n",
    "<li> 25 Ministry of Power </li>\n",
    "<li> 26 Ministry of Consumer Affairs, Food & Public Distribution </li>\n",
    "<li> 27 Ministry of Heavy Industries & Public Enterprises </li>\n",
    "<li> 28 Ministry of Communications </li>\n",
    "<li> 29 Ministry of Shipping </li>\n",
    "<li> 30 Ministry of Finance </li>\n",
    "<li> 31 Ministry of Tribal Affairs </li>\n",
    "<li> 32 Ministry of Statistics & Programme Implementation </li>\n",
    "<li> 33 Ministry of Labour & Employment </li>\n",
    "<li> 34 Ministry of Law & Justice </li>\n",
    "<li> 35 Vice President's Secretariat </li>\n",
    "<li> 36 Ministry of Civil Aviation </li>\n",
    "<li> 37 Ministry for Development of North-East Region </li>\n",
    "<li> 38 UPSC </li>\n",
    "<li> 39 Ministry of Agro & Rural Industries </li>\n",
    "<li> 40 Ministry of Home Affairs </li>\n",
    "<li> 41 Ministry of Youth Affairs and Sports </li>\n",
    "<li> 42 Special Service and Features </li>\n",
    "<li> 43 Ministry of New and Renewable Energy </li>\n",
    "<li> 44 Ministry of Parliamentary Affairs </li>\n",
    "<li> 45 Planning Commission </li>\n",
    "<li> 46 Ministry of Personnel, Public Grievances & Pensions </li>\n",
    "<li> 47 Election Commission </li>\n",
    "<li> 48 Department of Space </li>\n",
    "<li> 49 Ministry of Disinvestment </li>\n",
    "<li> 50 Department of Ocean Development </li>\n",
    "<li> 51 Ministry of Overseas Indian Affairs </li>\n",
    "<li> 52 Ministry of Housing and Urban Poverty Alleviation </li>\n",
    "<li> 53 Ministry of Culture </li>\n",
    "<li> 54 Ministry of Company Affairs </li>\n",
    "<li> 55 Ministry of Panchayati Raj </li>\n",
    "<li> 56 Cabinet Committee on Economic Affairs (CCEA) </li>\n",
    "<li> 57 Cabinet </li>\n",
    "<li> 58 Department of Atomic Energy </li>\n",
    "<li> 59 Cabinet Committee Decisions </li>\n",
    "<li>60 No Ministry</li>\n",
    "</ul>"
   ]
  },
  {
   "cell_type": "code",
   "execution_count": null,
   "metadata": {},
   "outputs": [],
   "source": [
    "model.load_weights('/kaggle/input/tmp-data/model.h5')"
   ]
  },
  {
   "cell_type": "code",
   "execution_count": null,
   "metadata": {},
   "outputs": [],
   "source": [
    "def load_tokenizer():\n",
    "    with open('/kaggle/input/tmp-data/tokenizer.pkl', 'rb') as handle:\n",
    "        tokenizer = pickle.load(handle)\n",
    "\n",
    "    print(len(tokenizer.word_index))\n",
    "    print('loading of tokenizer completed........')\n",
    "\n",
    "    return tokenizer\n",
    "\n",
    "tokenizer = load_tokenizer()"
   ]
  },
  {
   "cell_type": "code",
   "execution_count": null,
   "metadata": {},
   "outputs": [],
   "source": [
    "tokenized_test_text = tokenizer.texts_to_sequences([\"Supreme court gives notice to car owner regarding tax dues\"])\n",
    "x_train = keras.preprocessing.sequence.pad_sequences(tokenized_test_text, maxlen=max_sequence_len_tmp)\n",
    "ans = model.predict([x_train])\n",
    "print(ans)"
   ]
  },
  {
   "cell_type": "markdown",
   "metadata": {},
   "source": [
    "<h2>Finding Top 3 probable minstries as per the model's output</h2>"
   ]
  },
  {
   "cell_type": "code",
   "execution_count": null,
   "metadata": {},
   "outputs": [],
   "source": [
    "# dict_items([('Not Ministry', 61), ('Ministry of Railways', 1), ('Ministry of Rural Development', 2), ('Ministry of Steel', 3), ('Ministry of Science & Technology', 4), ('Ministry of Information & Broadcasting', 5), ('Ministry of Food Processing Industries', 6), ('Ministry of Health and Family Welfare', 7), ('Ministry of Human Resource Development', 8), ('Ministry of Agriculture', 9), ('Ministry of Environment and Forests', 10), ('Ministry of Chemicals and Fertilizers', 11), ('Ministry of Water Resources', 12), ('Ministry of Defence', 13), ('Ministry of Petroleum & Natural Gas', 14), (\"President's Secretariat\", 15), ('Ministry of Micro,Small & Medium Enterprises', 16), ('Ministry of Mines', 17), ('Ministry of Tourism', 18), ('Ministry of Housing & Urban Affairs', 19), ('Ministry of Coal', 20), (\"Prime Minister's Office\", 21), ('Ministry of Textiles', 22), ('Ministry of Commerce & Industry', 23), ('Ministry of External Affairs', 24), ('Ministry of Social Justice & Empowerment', 25), ('Ministry of Power', 26), ('Ministry of Consumer Affairs, Food & Public Distribution', 27), ('Ministry of Heavy Industries & Public Enterprises', 28), ('Ministry of Communications', 29), ('Ministry of Shipping', 30), ('Ministry of Finance', 31), ('Ministry of Tribal Affairs', 32), ('Ministry of Statistics & Programme Implementation', 33), ('Ministry of Labour & Employment', 34), ('Ministry of Law & Justice', 35), (\"Vice President's Secretariat\", 36), ('Ministry of Civil Aviation', 37), ('Ministry for Development of North-East Region', 38), ('UPSC', 39), ('Ministry of Agro & Rural Industries', 40), ('Ministry of Home Affairs', 41), ('Ministry of Youth Affairs and Sports', 42), ('Special Service and Features', 43), ('Ministry of New and Renewable Energy', 44), ('Ministry of Parliamentary Affairs', 45), ('Planning Commission', 46), ('Ministry of Personnel, Public Grievances & Pensions', 47), ('Election Commission', 48), ('Department of Space', 49), ('Ministry of Disinvestment', 50), ('Department of Ocean Development', 51), ('Ministry of Overseas Indian Affairs', 52), ('Ministry of Housing and Urban Poverty Alleviation', 53), ('Ministry of Culture', 54), ('Ministry of Company Affairs', 55), ('Ministry of Panchayati Raj', 56), ('Cabinet Committee on Economic Affairs (CCEA)', 57), ('Cabinet', 58), ('Department of Atomic Energy', 59), ('Cabinet Committee Decisions', 60)])"
   ]
  },
  {
   "cell_type": "code",
   "execution_count": null,
   "metadata": {},
   "outputs": [],
   "source": [
    "class_labels = ans.argmax(axis=-1)\n",
    "print(class_labels)\n",
    "top_3_labels = np.argsort(ans)[-3:]\n",
    "print(top_3_labels)"
   ]
  }
 ],
 "metadata": {
  "language_info": {
   "name": "python"
  }
 },
 "nbformat": 4,
 "nbformat_minor": 2
}
